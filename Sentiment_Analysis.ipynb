{
 "cells": [
  {
   "cell_type": "code",
   "execution_count": 1,
   "id": "9c929103-f227-4589-865b-7261c5a39803",
   "metadata": {},
   "outputs": [],
   "source": [
    "import nltk"
   ]
  },
  {
   "cell_type": "code",
   "execution_count": 2,
   "id": "4c44a51d-8703-43c9-ad59-9f0c69dadd1a",
   "metadata": {},
   "outputs": [],
   "source": [
    "from nltk.sentiment import SentimentIntensityAnalyzer"
   ]
  },
  {
   "cell_type": "code",
   "execution_count": 3,
   "id": "55b1e1c1-e7fa-45fa-94c9-3d61ed835bda",
   "metadata": {},
   "outputs": [],
   "source": [
    "analyzer = SentimentIntensityAnalyzer()"
   ]
  },
  {
   "cell_type": "code",
   "execution_count": 22,
   "id": "5a83e015-bfdf-4130-a8bc-20726a7bf53a",
   "metadata": {},
   "outputs": [
    {
     "data": {
      "text/plain": [
       "{'neg': 0.062, 'neu': 0.779, 'pos': 0.159, 'compound': 0.9301}"
      ]
     },
     "execution_count": 22,
     "metadata": {},
     "output_type": "execute_result"
    }
   ],
   "source": [
    "with open(\"diary/2023-10-25.txt\", \"r\") as file:\n",
    "    text = file.read()\n",
    "score = analyzer.polarity_scores(text)\n",
    "score"
   ]
  },
  {
   "cell_type": "code",
   "execution_count": 17,
   "id": "55507c47-b626-4958-97df-34db7e284e2b",
   "metadata": {},
   "outputs": [],
   "source": [
    "import glob"
   ]
  },
  {
   "cell_type": "code",
   "execution_count": 18,
   "id": "4cdb9034-f752-41a9-bdae-7320419ccdbc",
   "metadata": {},
   "outputs": [
    {
     "data": {
      "text/plain": [
       "['diary/2023-10-25.txt',\n",
       " 'diary/2023-10-24.txt',\n",
       " 'diary/2023-10-26.txt',\n",
       " 'diary/2023-10-27.txt',\n",
       " 'diary/2023-10-23.txt',\n",
       " 'diary/2023-10-22.txt',\n",
       " 'diary/2023-10-21.txt']"
      ]
     },
     "execution_count": 18,
     "metadata": {},
     "output_type": "execute_result"
    }
   ],
   "source": [
    "filepaths = glob.glob(\"diary/*.txt\")\n",
    "filepaths"
   ]
  },
  {
   "cell_type": "code",
   "execution_count": 20,
   "id": "48cc684d-b1c2-4714-8c7e-7ad1f4b7c707",
   "metadata": {},
   "outputs": [
    {
     "data": {
      "text/plain": [
       "['diary/2023-10-21.txt',\n",
       " 'diary/2023-10-22.txt',\n",
       " 'diary/2023-10-23.txt',\n",
       " 'diary/2023-10-24.txt',\n",
       " 'diary/2023-10-25.txt',\n",
       " 'diary/2023-10-26.txt',\n",
       " 'diary/2023-10-27.txt']"
      ]
     },
     "execution_count": 20,
     "metadata": {},
     "output_type": "execute_result"
    }
   ],
   "source": [
    "filepaths = sorted(filepaths)\n",
    "filepaths"
   ]
  },
  {
   "cell_type": "code",
   "execution_count": 30,
   "id": "eb721783-63b1-4d5c-a4ee-49e2bd97f55f",
   "metadata": {
    "collapsed": true,
    "jupyter": {
     "outputs_hidden": true
    },
    "tags": []
   },
   "outputs": [
    {
     "data": {
      "text/plain": [
       "{'diary/2023-10-21.txt': 'Our board exam results have not yet been declared and already the news of malpractice is making the rounds. There are cases of attempted bribery reported for admissions into esteemed colleges. Such news is really very disheartening. Especially when coupled with the various reservation schemes already existing. This leaves no scope for children like me who do not fit in any minority groups nor can sum up large amounts for donation. This is a very serious problem, and I am really threatened by it. Even if the malpractices are ignored or hushed up, as very often they will be, the fact that these students will not excel in their courses is inevitable, thus causing a loss of the country’s resources employed in their training. I do not know what to look forward to anymore. I just hope and pray that such practices are tracked and nipped in the bud.\\n',\n",
       " 'diary/2023-10-22.txt': ' am very sorry for not writing to you last night. I was extremely tired after enjoying the entire day at Shangrila Resort. I could not even keep my eyes open. The place was so huge that by the end of the day we still felt like we did not see the entire place. It had one large pool for adults, two pools for children over 10 years, and a really shallow yet very cute pool for small children. There was a large waterfall as well. The entire place was surrounded by grass and trees. It felt as if we were in a real jungle. They also had speakers hidden in the trees giving sound effects of wild animals. The food too was fresh and filling. It gave us the energy to go on playing. We had a great time and wished we could stay there forever.\\n',\n",
       " 'diary/2023-10-23.txt': 'Last night, I had a very strange dream. I saw that two of my friends and I were going to attend my cousin’s wedding reception. On our way a rather strange-looking man intercepted us. Despite our protests, he insisted on narrating to us his tale of resentment. He looked unnaturally old with skinny limbs and glittering eyes, and the tale he narrated seemed too surreal to be true. He said he used to be a mariner who shot an innocent albatross who was guiding their ship out of the perilous ice at sea. This act enraged a powerful spirit who used to love the bird. His actions resulted in the death of his crewmates. Also, he was doomed to feel a great deal of agony which was relieved only when he narrated the tale to somebody. The drea\\nm taught me a valuable lesson: Never hurt the hand which helps you.\\n',\n",
       " 'diary/2023-10-24.txt': 'Today during history class our teacher shared with us stories of a few freedom fighters. They intrigued me a lot as I could never imagine people giving up everything valuable to them for the nation and its people. These people are models of inspiration, especially in today’s day and age. The chief concern of every person these days is limited to his own luxuries and to that of his family. This has to change. As we see through history, progress can be achieved only when people give up their own interests in favour of the betterment of the larger society. The freedom fighters did their part in the struggle for our independence. It is our duty now to safeguard this freedom handed to us as a gift. We need to learn from them the value of selfless service and perseverance to do our part and give back to our country for the love and care we receive.\\n',\n",
       " 'diary/2023-10-25.txt': 'Tomorrow is the judgment day as they call it—the elocution competition that I have been preparing for all these days. I will be participating in it tomorrow. Just the thought of it has me shaken. My class teacher knows my insecurities about speaking to crowds. Maybe that’s why she forced me to take this up. I wonder what will happen tomorrow. I prepared a fairly good speech with my elder brother’s help. I am proud of him, though I will never admit it to him. He has a good command of the language. He is confident that I will do a good job. I hope I do. I’ve already practised it so many times that I can recite it in my sleep. I have to go to sleep now or else I will be late for school.\\n',\n",
       " 'diary/2023-10-26.txt': 'Today was the worst day of my life. It was as if I had woken up from the wrong side of the bed. To begin with, I was late for school since there was no water supply in the morning. Then I stumbled and fell while on my way to my first class. If all this was not enough, I was scolded by Miss Amera for not carrying my Math test book and the funny part is that the book was actually in my bag. Only I couldn’t find it during the class. I cannot understand how so many incidents could occur in one single day. There must be something seriously wrong with me. The sad part is that I could not control what happened. All I can do is go to sleep now and just hope for a positive start tomorrow.\\n',\n",
       " 'diary/2023-10-27.txt': 'Today was my first day at school. Since we recently shifted to this city, everything here is new to me. It is a little difficult and often frustrating to get adjusted to everything, especially the people. The school was great though. My biggest struggle today was to find my class before the assembly began. Once I succeeded in wading through the swarms of students everything was fine. For the most part, the day was uneventful, except for me being asked to introduce myself over and over again by every teacher that came. I made a few new friends too. Raman, my bench partner, plays football. He invited me to play with him after school but I had to decline since I hadn’t informed mom. I will go tomorrow though. I am sure I’ll have great fun. I have already begun to like this place.\\n'}"
      ]
     },
     "execution_count": 30,
     "metadata": {},
     "output_type": "execute_result"
    }
   ],
   "source": [
    "file_contents = {}\n",
    "\n",
    "for filepath in filepaths:\n",
    "    with open(filepath, 'r') as file:\n",
    "        content = file.read()\n",
    "        file_contents[filepath] = content\n",
    "        \n",
    "file_contents"
   ]
  },
  {
   "cell_type": "code",
   "execution_count": 35,
   "id": "bac61373-3d44-468b-ab1c-3c5361a9472c",
   "metadata": {},
   "outputs": [
    {
     "ename": "AttributeError",
     "evalue": "'dict' object has no attribute 'value'",
     "output_type": "error",
     "traceback": [
      "\u001b[0;31m---------------------------------------------------------------------------\u001b[0m",
      "\u001b[0;31mAttributeError\u001b[0m                            Traceback (most recent call last)",
      "Cell \u001b[0;32mIn[35], line 1\u001b[0m\n\u001b[0;32m----> 1\u001b[0m \u001b[38;5;28;01mfor\u001b[39;00m file_contents\u001b[38;5;241m.\u001b[39mvalue \u001b[38;5;129;01min\u001b[39;00m file_contents\u001b[38;5;241m.\u001b[39mitems():\n\u001b[1;32m      2\u001b[0m     score \u001b[38;5;241m=\u001b[39m analyzer\u001b[38;5;241m.\u001b[39mpolarity_scores(file_contents\u001b[38;5;241m.\u001b[39mvalue)\n\u001b[1;32m      3\u001b[0m     \u001b[38;5;28mprint\u001b[39m(score)\n",
      "\u001b[0;31mAttributeError\u001b[0m: 'dict' object has no attribute 'value'"
     ]
    }
   ],
   "source": [
    "for file_contents.value in file_contents.items():\n",
    "    score = analyzer.polarity_scores(file_contents.value)\n",
    "    print(score)"
   ]
  },
  {
   "cell_type": "code",
   "execution_count": 31,
   "id": "d717c0aa-bdfd-4ca8-99fc-6bd7de83f695",
   "metadata": {},
   "outputs": [
    {
     "name": "stdout",
     "output_type": "stream",
     "text": [
      "{'neg': 0.138, 'neu': 0.798, 'pos': 0.065, 'compound': -0.8757}\n"
     ]
    }
   ],
   "source": [
    "score = analyzer.polarity_scores(file_contents['diary/2023-10-21.txt'])\n",
    "print(score)"
   ]
  }
 ],
 "metadata": {
  "kernelspec": {
   "display_name": "Python 3 (ipykernel)",
   "language": "python",
   "name": "python3"
  },
  "language_info": {
   "codemirror_mode": {
    "name": "ipython",
    "version": 3
   },
   "file_extension": ".py",
   "mimetype": "text/x-python",
   "name": "python",
   "nbconvert_exporter": "python",
   "pygments_lexer": "ipython3",
   "version": "3.10.9"
  }
 },
 "nbformat": 4,
 "nbformat_minor": 5
}
