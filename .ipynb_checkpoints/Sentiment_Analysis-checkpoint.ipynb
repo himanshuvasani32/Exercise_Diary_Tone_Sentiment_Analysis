{
 "cells": [
  {
   "cell_type": "code",
   "execution_count": 1,
   "id": "9c929103-f227-4589-865b-7261c5a39803",
   "metadata": {},
   "outputs": [],
   "source": [
    "import nltk"
   ]
  },
  {
   "cell_type": "code",
   "execution_count": 2,
   "id": "4c44a51d-8703-43c9-ad59-9f0c69dadd1a",
   "metadata": {},
   "outputs": [],
   "source": [
    "from nltk.sentiment import SentimentIntensityAnalyzer"
   ]
  },
  {
   "cell_type": "code",
   "execution_count": 3,
   "id": "55b1e1c1-e7fa-45fa-94c9-3d61ed835bda",
   "metadata": {},
   "outputs": [],
   "source": [
    "analyzer = SentimentIntensityAnalyzer()"
   ]
  },
  {
   "cell_type": "code",
   "execution_count": 4,
   "id": "5a83e015-bfdf-4130-a8bc-20726a7bf53a",
   "metadata": {},
   "outputs": [
    {
     "data": {
      "text/plain": [
       "{'neg': 0.0, 'neu': 1.0, 'pos': 0.0, 'compound': 0.0}"
      ]
     },
     "execution_count": 4,
     "metadata": {},
     "output_type": "execute_result"
    }
   ],
   "source": [
    "score = analyzer.polarity_scores(\"diary/2023-10-25.txt\")\n",
    "score"
   ]
  },
  {
   "cell_type": "code",
   "execution_count": 14,
   "id": "55507c47-b626-4958-97df-34db7e284e2b",
   "metadata": {},
   "outputs": [],
   "source": [
    "import glob"
   ]
  },
  {
   "cell_type": "code",
   "execution_count": 15,
   "id": "4cdb9034-f752-41a9-bdae-7320419ccdbc",
   "metadata": {},
   "outputs": [
    {
     "data": {
      "text/plain": [
       "['diary/2023-10-25.txt',\n",
       " 'diary/2023-10-24.txt',\n",
       " 'diary/2023-10-26.txt',\n",
       " 'diary/2023-10-27.txt',\n",
       " 'diary/2023-10-23.txt',\n",
       " 'diary/2023-10-22.txt',\n",
       " 'diary/2023-10-21.txt']"
      ]
     },
     "execution_count": 15,
     "metadata": {},
     "output_type": "execute_result"
    }
   ],
   "source": [
    "filepaths = glob.glob(\"diary/*.txt\")\n",
    "filepaths"
   ]
  },
  {
   "cell_type": "code",
   "execution_count": null,
   "id": "48cc684d-b1c2-4714-8c7e-7ad1f4b7c707",
   "metadata": {},
   "outputs": [],
   "source": [
    "filepaths"
   ]
  }
 ],
 "metadata": {
  "kernelspec": {
   "display_name": "Python 3 (ipykernel)",
   "language": "python",
   "name": "python3"
  },
  "language_info": {
   "codemirror_mode": {
    "name": "ipython",
    "version": 3
   },
   "file_extension": ".py",
   "mimetype": "text/x-python",
   "name": "python",
   "nbconvert_exporter": "python",
   "pygments_lexer": "ipython3",
   "version": "3.10.9"
  }
 },
 "nbformat": 4,
 "nbformat_minor": 5
}
